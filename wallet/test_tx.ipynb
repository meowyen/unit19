{
 "metadata": {
  "language_info": {
   "codemirror_mode": {
    "name": "ipython",
    "version": 3
   },
   "file_extension": ".py",
   "mimetype": "text/x-python",
   "name": "python",
   "nbconvert_exporter": "python",
   "pygments_lexer": "ipython3",
   "version": "3.7.7"
  },
  "orig_nbformat": 2,
  "kernelspec": {
   "name": "python377jvsc74a57bd02cddb1266474c6e3236a4948f30ede38573b58e27d5441cca3fae3200addc12b",
   "display_name": "Python 3.7.7 64-bit ('pyvizenv': conda)"
  }
 },
 "nbformat": 4,
 "nbformat_minor": 2,
 "cells": [
  {
   "cell_type": "code",
   "execution_count": 1,
   "metadata": {},
   "outputs": [],
   "source": [
    "from constants import *\n",
    "from wallet import CryptoWallet"
   ]
  },
  {
   "cell_type": "code",
   "execution_count": 2,
   "metadata": {},
   "outputs": [],
   "source": [
    "crypto_wallet = CryptoWallet()"
   ]
  },
  {
   "cell_type": "code",
   "execution_count": 6,
   "metadata": {},
   "outputs": [
    {
     "output_type": "stream",
     "name": "stdout",
     "text": [
      "Sending 1 BTC from mzYRZAMRaP4iEgC779HQLjzJuRQRoUjC9v to mtwhmmZDHTokkcY2BDVac7ZWuKv4omiG1j\n",
      "Transaction complete. Transaction: None\n"
     ]
    }
   ],
   "source": [
    "to_addr = \"mtwhmmZDHTokkcY2BDVac7ZWuKv4omiG1j\"\n",
    "coin_addr = crypto_wallet.get_coin_address(BTCTEST, 0)\n",
    "coin_addr_privkey = coin_addr['privkey']\n",
    "account = crypto_wallet.priv_key_to_account(BTCTEST, coin_addr_privkey)\n",
    "\n",
    "print(f\"Sending 1 BTC from {coin_addr['address']} to {to_addr}\")\n",
    "result = crypto_wallet.send_tx(coin=BTCTEST, account=account, to=to_addr, amount=0.000001)"
   ]
  },
  {
   "cell_type": "code",
   "execution_count": 3,
   "metadata": {},
   "outputs": [
    {
     "output_type": "stream",
     "name": "stdout",
     "text": [
      "0xdbf19d2700255606374fc2c990115fbb4a65ed345e27001a06ade86be7901622\nSending 1 ETH from 0x9175BBC663c5B3e90840e96fD58AE69960604DAB to 0x680A63627A5c412B228830e31e0e5AF63af94603\n"
     ]
    },
    {
     "output_type": "execute_result",
     "data": {
      "text/plain": [
       "HexBytes('0x8c7293a34a4957d3553eb833e1708f4224d6da279d4ec9458a3d814f3663dced')"
      ]
     },
     "metadata": {},
     "execution_count": 3
    }
   ],
   "source": [
    "to_addr = \"0x680A63627A5c412B228830e31e0e5AF63af94603\"\n",
    "coin_addr = crypto_wallet.get_coin_address(ETH, 0)\n",
    "coin_addr_privkey = coin_addr['privkey']\n",
    "account = crypto_wallet.priv_key_to_account(ETH, coin_addr_privkey)\n",
    "print(coin_addr_privkey)\n",
    "\n",
    "print(f\"Sending 1 ETH from {coin_addr['address']} to {to_addr}\")\n",
    "result = crypto_wallet.send_tx(coin=ETH, account=account, to=to_addr, amount=1)\n",
    "\n",
    "result"
   ]
  }
 ]
}